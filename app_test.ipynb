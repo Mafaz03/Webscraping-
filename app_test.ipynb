{
 "cells": [
  {
   "cell_type": "markdown",
   "metadata": {},
   "source": [
    "## Importing Dependencies"
   ]
  },
  {
   "cell_type": "code",
   "execution_count": 1,
   "metadata": {},
   "outputs": [],
   "source": [
    "import requests\n",
    "from htmldate import find_date\n",
    "from datetime import datetime\n",
    "import requests\n",
    "import re\n",
    "from bs4 import BeautifulSoup\n",
    "import ssl\n",
    "from tqdm import tqdm\n",
    "from textblob import TextBlob\n",
    "import openai\n",
    "import multiprocessing\n",
    "from time import time\n",
    "\n",
    "from html_extractor import *\n",
    "from get_suburls import *\n",
    "from openai_func import *\n",
    "from get_date import *\n",
    "from parallel import *\n",
    "\n",
    "from time import sleep\n",
    "\n",
    "from keyword_extraction import keyword_extractor_paragraph as kep"
   ]
  },
  {
   "cell_type": "markdown",
   "metadata": {},
   "source": [
    "## Extracting sub urls"
   ]
  },
  {
   "cell_type": "code",
   "execution_count": 2,
   "metadata": {},
   "outputs": [
    {
     "name": "stderr",
     "output_type": "stream",
     "text": [
      "  0%|          | 0/2 [00:00<?, ?it/s]"
     ]
    },
    {
     "name": "stderr",
     "output_type": "stream",
     "text": [
      "100%|██████████| 2/2 [00:01<00:00,  1.68it/s]\n",
      "100%|██████████| 5/5 [00:06<00:00,  1.29s/it]\n",
      "100%|██████████| 66/66 [00:23<00:00,  2.79it/s]\n"
     ]
    },
    {
     "name": "stdout",
     "output_type": "stream",
     "text": [
      "Failed Fetch: 0\n",
      "Splits: 4\n",
      "Tree size: 181\n"
     ]
    }
   ],
   "source": [
    "urls_list = [\"https://www.khaleejtimes.com\" , \"https://www.indiatoday.in\"]\n",
    "urls_list_str = \",\".join(urls_list)\n",
    "\n",
    "keywords = \"gaza,israel,hamas,idf\"\n",
    "\n",
    "scraper = WebScraper2(sub_url_size = 3 , keywords = keywords)\n",
    "                        # Integration with DB will make it faster in future, as fetching is much faster than scrapping.\n",
    "inside_urls, failed_fetch, sub_url_size, total_size = scraper.get_suburls2(urls_list_str)\n",
    "\n",
    "# print(\"Inside URLs:\", inside_urls)\n",
    "print(\"Failed Fetch:\", failed_fetch)\n",
    "print(\"Splits:\", len(inside_urls))\n",
    "print(\"Tree size:\", total_size)"
   ]
  },
  {
   "cell_type": "markdown",
   "metadata": {},
   "source": [
    "## Joining sub urls into one single list"
   ]
  },
  {
   "cell_type": "code",
   "execution_count": 3,
   "metadata": {},
   "outputs": [
    {
     "name": "stdout",
     "output_type": "stream",
     "text": [
      "181\n"
     ]
    }
   ],
   "source": [
    "website_urls = [item for sublist in list(inside_urls.values()) for item in sublist]\n",
    "print(len(website_urls))\n"
   ]
  },
  {
   "cell_type": "markdown",
   "metadata": {},
   "source": [
    "## Testing Date Fetching\n",
    "\n",
    "Need to integrate Mongo "
   ]
  },
  {
   "cell_type": "code",
   "execution_count": 4,
   "metadata": {},
   "outputs": [
    {
     "data": {
      "text/plain": [
       "('https://www.indiatoday.in/topic/israel', '12-09-2019')"
      ]
     },
     "execution_count": 4,
     "metadata": {},
     "output_type": "execute_result"
    }
   ],
   "source": [
    "fetch_date_from_url(website_urls[3])"
   ]
  },
  {
   "cell_type": "markdown",
   "metadata": {},
   "source": [
    "## Creating {url : html content} dictionary"
   ]
  },
  {
   "cell_type": "code",
   "execution_count": 4,
   "metadata": {},
   "outputs": [
    {
     "name": "stderr",
     "output_type": "stream",
     "text": [
      "100%|██████████| 181/181 [00:59<00:00,  3.03it/s]\n"
     ]
    }
   ],
   "source": [
    "url_html_extracted = get_html(website_urls)\n",
    "# url_html_extracted"
   ]
  },
  {
   "cell_type": "markdown",
   "metadata": {},
   "source": [
    "## Keyword extraction performed on above dictionary"
   ]
  },
  {
   "cell_type": "code",
   "execution_count": 5,
   "metadata": {},
   "outputs": [
    {
     "name": "stderr",
     "output_type": "stream",
     "text": [
      "100%|██████████| 118/118 [00:00<00:00, 8663.04it/s]\n"
     ]
    }
   ],
   "source": [
    "url_extracted_html = kep(website_content = url_html_extracted[0], keywords = keywords, filter_by_amount = 60)\n",
    "\n",
    "# url_extracted_html"
   ]
  },
  {
   "cell_type": "markdown",
   "metadata": {},
   "source": [
    "## Converting dictionary to list of tuple pairs, for implementation of batches"
   ]
  },
  {
   "cell_type": "code",
   "execution_count": 6,
   "metadata": {},
   "outputs": [],
   "source": [
    "content_list = [(key,value[:2000]) for key, value in url_extracted_html.items()] # 1000 is temporary until tokenier function is not set up\n",
    "# content_list"
   ]
  },
  {
   "cell_type": "markdown",
   "metadata": {},
   "source": [
    "## Cutting the above list fo batches of batch size MAX_CONTENT"
   ]
  },
  {
   "cell_type": "code",
   "execution_count": 7,
   "metadata": {},
   "outputs": [
    {
     "data": {
      "text/plain": [
       "24"
      ]
     },
     "execution_count": 7,
     "metadata": {},
     "output_type": "execute_result"
    }
   ],
   "source": [
    "MAX_CONTENT = 5\n",
    "\n",
    "content_list_complete = []\n",
    "\n",
    "iterations = len(content_list) // MAX_CONTENT\n",
    "\n",
    "\n",
    "for i in range(iterations):\n",
    "    sub_content_list = content_list[MAX_CONTENT * i: MAX_CONTENT * (i + 1)]\n",
    "    content_list_complete.append(sub_content_list)\n",
    "\n",
    "# Handle remaining elements after the loop\n",
    "remaining_elements = content_list[MAX_CONTENT * iterations:]\n",
    "if remaining_elements:\n",
    "    iterations += 1\n",
    "    content_list_complete.append(remaining_elements)\n",
    "\n",
    "len(content_list_complete)"
   ]
  },
  {
   "cell_type": "markdown",
   "metadata": {},
   "source": [
    "## Openai's api"
   ]
  },
  {
   "cell_type": "markdown",
   "metadata": {},
   "source": [
    "### Non parallel execution of 1 api"
   ]
  },
  {
   "cell_type": "code",
   "execution_count": 21,
   "metadata": {},
   "outputs": [
    {
     "name": "stdout",
     "output_type": "stream",
     "text": [
      "Batch 1 out of 24 completed \n",
      "Batch 2 out of 24 completed \n",
      "Batch 3 out of 24 completed \n",
      "Batch 4 out of 24 completed \n",
      "Batch 5 out of 24 completed \n",
      "Batch 6 out of 24 completed \n",
      "Batch 7 out of 24 completed \n",
      "Batch 8 out of 24 completed \n",
      "Batch 9 out of 24 completed \n",
      "Batch 10 out of 24 completed \n",
      "Executed in 216.86s\n"
     ]
    }
   ],
   "source": [
    "from time import sleep\n",
    "start = time()\n",
    "\n",
    "question = \"Summary of situation in gaza\"\n",
    "\n",
    "response_complete = ''\n",
    "for data_idx in range(10):\n",
    "\n",
    "    prompt = f\"\"\" \n",
    "        Data is in the form of tuples inside list: {content_list_complete[data_idx]} \\n\\n\\n \n",
    "        Question: {question} \\n\\n\\n\n",
    "        Method of reply: 100 - 200 word sentences, clear reply,\n",
    "        provide url if neccessary.\n",
    "        \"\"\"\n",
    "    \n",
    "    if data_idx % 6 == 0:\n",
    "        sleep(20)\n",
    "\n",
    "    # response = get_completion(prompt)\n",
    "    # response_complete += response + \"\\n\\n\"\n",
    "    print(f\"Batch {data_idx + 1} out of {iterations} completed \")\n",
    "\n",
    "end = time()\n",
    "\n",
    "print(f\"Executed in {end-start:.2f}s\")\n",
    "    "
   ]
  },
  {
   "cell_type": "markdown",
   "metadata": {},
   "source": [
    "### Parallel Execution for 2 api"
   ]
  },
  {
   "cell_type": "code",
   "execution_count": 18,
   "metadata": {},
   "outputs": [
    {
     "name": "stdout",
     "output_type": "stream",
     "text": [
      "Batch 1 - 2 executed out of 24\n",
      "Batch 3 - 4 executed out of 24\n",
      "Batch 5 - 6 executed out of 24\n",
      "Batch 7 - 8 executed out of 24\n",
      "Batch 9 - 10 executed out of 24\n",
      "Executed in 98.97s\n"
     ]
    }
   ],
   "source": [
    "start = time()\n",
    "\n",
    "complete_result_of_openai = \"\"\n",
    "question_to_pass = \"status of war in gaza\"\n",
    "\n",
    "count = 0\n",
    "\n",
    "NUM_OF_API = 2\n",
    "\n",
    "for i in range(0, 10, NUM_OF_API):\n",
    "\n",
    "    if count % 6 == 0:\n",
    "        sleep(20)\n",
    "    \n",
    "\n",
    "    result = ''\n",
    "\n",
    "    result_queue1 = multiprocessing.Queue()\n",
    "    result_queue2 = multiprocessing.Queue()\n",
    "\n",
    "\n",
    "    process1 = multiprocessing.Process(target=gpt1, args=(question_to_pass, content_list_complete, i, result_queue1))\n",
    "    process2 = multiprocessing.Process(target=gpt2, args=(question_to_pass, content_list_complete, i+1, result_queue2))\n",
    "\n",
    "\n",
    "    # Start processes\n",
    "    process1.start()\n",
    "    process2.start()\n",
    "\n",
    "    # Wait for processes to finish\n",
    "    process1.join()\n",
    "    process2.join()\n",
    "\n",
    "\n",
    "    result1 = result_queue1.get()\n",
    "    result2 = result_queue2.get()\n",
    "\n",
    "    # Rest of your code remains unchanged\n",
    "    result = result1 + \"\\n\\n\" + result2 + \"\\n\\n\"\n",
    "    complete_result_of_openai += result\n",
    "\n",
    "    print(f\"Batch {i+1} - {i+NUM_OF_API} executed out of {len(content_list_complete)}\")\n",
    "    count += 1\n",
    "complete_result_of_openai\n",
    "\n",
    "end = time()\n",
    "\n",
    "print(f\"Executed in {end-start:.2f}s\")\n"
   ]
  },
  {
   "cell_type": "code",
   "execution_count": 22,
   "metadata": {},
   "outputs": [
    {
     "data": {
      "text/plain": [
       "2.204081632653061"
      ]
     },
     "execution_count": 22,
     "metadata": {},
     "output_type": "execute_result"
    }
   ],
   "source": [
    "216/98"
   ]
  },
  {
   "cell_type": "code",
   "execution_count": 17,
   "metadata": {},
   "outputs": [],
   "source": []
  },
  {
   "cell_type": "code",
   "execution_count": 23,
   "metadata": {},
   "outputs": [],
   "source": [
    "with open(\"Output_gaza_parallel.txt\" , \"w\") as f:\n",
    "    f.write(complete_result_of_openai)"
   ]
  },
  {
   "cell_type": "code",
   "execution_count": 18,
   "metadata": {},
   "outputs": [],
   "source": [
    "with open(\"Output_gaza_parallel_summary.txt\" , \"w\") as f:\n",
    "    f.write(complete_result_of_openai)"
   ]
  },
  {
   "cell_type": "code",
   "execution_count": 63,
   "metadata": {},
   "outputs": [],
   "source": [
    "with open(\"Output_gaza.txt\" , \"w\") as f:\n",
    "    f.write(response_complete)"
   ]
  },
  {
   "cell_type": "code",
   "execution_count": 66,
   "metadata": {},
   "outputs": [],
   "source": []
  },
  {
   "cell_type": "code",
   "execution_count": 39,
   "metadata": {},
   "outputs": [
    {
     "data": {
      "text/plain": [
       "{'search_metadata': {'id': '65e3f179ca968fce70b728f5',\n",
       "  'status': 'Success',\n",
       "  'json_endpoint': 'https://serpapi.com/searches/a1f806d995d2e248/65e3f179ca968fce70b728f5.json',\n",
       "  'created_at': '2024-03-03 03:41:45 UTC',\n",
       "  'processed_at': '2024-03-03 03:41:45 UTC',\n",
       "  'google_url': 'https://www.google.com/search?q=cat&oq=cat&num=1&sourceid=chrome&ie=UTF-8',\n",
       "  'raw_html_file': 'https://serpapi.com/searches/a1f806d995d2e248/65e3f179ca968fce70b728f5.html',\n",
       "  'total_time_taken': 1.17},\n",
       " 'search_parameters': {'engine': 'google',\n",
       "  'q': 'cat',\n",
       "  'google_domain': 'google.com',\n",
       "  'num': '1',\n",
       "  'device': 'desktop'},\n",
       " 'search_information': {'query_displayed': 'cat',\n",
       "  'organic_results_state': 'Results for exact spelling'},\n",
       " 'knowledge_graph': {'title': 'About Cat',\n",
       "  'type': 'Animal',\n",
       "  'kgmid': '/m/01yrx',\n",
       "  'knowledge_graph_search_link': 'https://www.google.com/search?kgmid=/m/01yrx&hl=en-US&hl=Cat',\n",
       "  'serpapi_knowledge_graph_search_link': 'https://serpapi.com/search.json?device=desktop&engine=google&google_domain=google.com&hl=en-US&kgmid=%2Fm%2F01yrx&num=1&q=cat',\n",
       "  'tabs': [{'text': 'Perspectives',\n",
       "    'link': 'https://www.google.com/search?num=1&sca_esv=b60573e6fd3d297f&q=cat&uds=AMwkrPvqGo5zoYGWt6LNDCHlwCLezar5V29lBU2bhgZbER_fUF6enDWV5lHu1zQj6ZjvfWlKox1e1p4UdKUQQ7-Dj9cd-i877UfHFnn4n32RpE5Dz7VsX4U7iegJY7pyBVAqoQTkyNRh&udm=4&sa=X&ved=2ahUKEwjnnKCblteEAxX2EFkFHbsaD7cQs6gLegQIGBAB',\n",
       "    'serpapi_link': 'https://serpapi.com/search.json?device=desktop&engine=google&google_domain=google.com&num=1&q=cat'},\n",
       "   {'text': 'Breeds',\n",
       "    'link': 'https://www.google.com/search?num=1&sca_esv=b60573e6fd3d297f&q=Cat+breeds&uds=AMwkrPu1uc2vS1cm3Oy0-F5NiXmXcccq8FvNnIWEOm5d3VE_ULFU57G_AxTT_J8xznw1j5EI0KrvgREnPTfe9dUqlSsJy-2Xf0h_Gu1TaxVlh0S3g9nCWfc&sa=X&ved=2ahUKEwjnnKCblteEAxX2EFkFHbsaD7cQxKsJegQIFRAB&ictx=0',\n",
       "    'serpapi_link': 'https://serpapi.com/search.json?device=desktop&engine=google&google_domain=google.com&num=1&q=Cat+breeds'}],\n",
       "  'header_images': [{'image': 'https://serpapi.com/searches/65e3f179ca968fce70b728f5/images/bc23b677c7dc8305d8ae65387b64153178b54fd3f734b92862aeff3a592e9a3676c9351ded234704.webp',\n",
       "    'source': 'https://www.nationalgeographic.com/animals/mammals/facts/domestic-cat'},\n",
       "   {'image': 'https://serpapi.com/searches/65e3f179ca968fce70b728f5/images/bc23b677c7dc8305d8ae65387b64153178b54fd3f734b928f510d5fd22d79b6963da43a06061ccdf.webp',\n",
       "    'source': 'https://en.wikipedia.org/wiki/Cat'},\n",
       "   {'image': 'https://serpapi.com/searches/65e3f179ca968fce70b728f5/images/bc23b677c7dc8305d8ae65387b64153178b54fd3f734b9285c2f14439c1ca91b32781ffdb45481c1.webp',\n",
       "    'source': 'https://www.wfla.com/bloom-tampa-bay/10-surprising-benefits-of-having-a-cat-in-your-life/'}],\n",
       "  'description': 'The cat, commonly referred to as the domestic cat or house cat, is the only domesticated species in the family Felidae. Recent advances in archaeology and genetics have shown that the domestication of the cat occurred in the Near East around 7500 BC.',\n",
       "  'source': {'name': 'Wikipedia', 'link': 'https://en.wikipedia.org/wiki/Cat'},\n",
       "  'lifespan': '12 – 18 years (Domesticated)',\n",
       "  'scientific_name': 'Felis catus',\n",
       "  'class': 'Mammalia',\n",
       "  'domain': 'Eukaryota',\n",
       "  'family': 'Felidae',\n",
       "  'genus': 'Felis',\n",
       "  'web_results': [{'thumbnail': 'https://serpapi.com/searches/65e3f179ca968fce70b728f5/images/bc23b677c7dc8305d8ae65387b641531116b8b6f9bcb9afcf7b07734fea7d1e87be157f428e5ba52.jpeg',\n",
       "    'title': \"Cat's Meows Are So Misunderstood - The New York Times\",\n",
       "    'snippet': \"A study suggests that humans often misinterpret a pet's signals; even purring doesn't guarantee a contented cat.\",\n",
       "    'source': 'The New York Times',\n",
       "    'source_image': 'https://serpapi.com/searches/65e3f179ca968fce70b728f5/images/bc23b677c7dc8305d8ae65387b641531116b8b6f9bcb9afc8c215c2234105a6d283049de9975d17d0bdc03dde27816e7.png',\n",
       "    'link': 'https://www.nytimes.com/2024/02/29/science/cats-animal-behavior-meow.html',\n",
       "    'date': '2 days ago'},\n",
       "   {'title': 'Lifespan',\n",
       "    'snippet': '12 – 18 years (Domesticated)',\n",
       "    'link': 'https://www.google.com/search?num=1&sca_esv=b60573e6fd3d297f&q=cat+lifespan&stick=H4sIAAAAAAAAAOPgE2LQ0slOttJPyszPyU-v1M8vSk_MyyzOjU_OSSwuzkzLTE4syczPs8rJTEstLkjMW8TKAxRRgHEBwBwQAkEAAAA&sa=X&ved=2ahUKEwjnnKCblteEAxX2EFkFHbsaD7cQ18AJegQIHhAB'},\n",
       "   {'thumbnail': 'https://serpapi.com/searches/65e3f179ca968fce70b728f5/images/bc23b677c7dc8305d8ae65387b641531116b8b6f9bcb9afc690e6d5b412635d7e6e4c0dde819d383.jpeg',\n",
       "    'title': 'Cat Raised By Dogs Races To The Ocean To Swim | The Dodo',\n",
       "    'source': 'YouTube • The Dodo',\n",
       "    'source_image': 'https://serpapi.com/searches/65e3f179ca968fce70b728f5/images/bc23b677c7dc8305d8ae65387b641531116b8b6f9bcb9afca5d131ac2b466a761b32a227b61b4d3559611f9dc3f24ede.png',\n",
       "    'link': 'https://www.youtube.com/watch?v=nVbm5nImTj0',\n",
       "    'duration': '3:03'}],\n",
       "  'breeds': [{'name': 'Siamese cat',\n",
       "    'link': 'https://www.google.com/search?num=1&sca_esv=b60573e6fd3d297f&q=Siamese+cat&stick=H4sIAAAAAAAAAONgFuLQz9U3MKwsqlACs9LjjYu0-P2L0hPzMotzQ_KdilJTUxaxcgdnJuamFqcqJCeW7GBlBADK-9WjOAAAAA&sa=X&ved=2ahUKEwjnnKCblteEAxX2EFkFHbsaD7cQxA16BAgvEAM',\n",
       "    'serpapi_link': 'https://serpapi.com/search.json?device=desktop&engine=google&google_domain=google.com&num=1&q=Siamese+cat&stick=H4sIAAAAAAAAAONgFuLQz9U3MKwsqlACs9LjjYu0-P2L0hPzMotzQ_KdilJTUxaxcgdnJuamFqcqJCeW7GBlBADK-9WjOAAAAA',\n",
       "    'image': 'https://serpapi.com/searches/65e3f179ca968fce70b728f5/images/bc23b677c7dc8305d8ae65387b641531c4d92cd751c293ede4338b628e5c45da.jpeg'},\n",
       "   {'name': 'British Shorthair',\n",
       "    'link': 'https://www.google.com/search?num=1&sca_esv=b60573e6fd3d297f&q=British+Shorthair&stick=H4sIAAAAAAAAAONgFuLQz9U3MKwsqlACs5KTjM21-P2L0hPzMotzQ_KdilJTUxaxCjoVZZZkFmcoBGfkF5VkJGYW7WBlBAC1AxqRPgAAAA&sa=X&ved=2ahUKEwjnnKCblteEAxX2EFkFHbsaD7cQxA16BAgvEAU',\n",
       "    'serpapi_link': 'https://serpapi.com/search.json?device=desktop&engine=google&google_domain=google.com&num=1&q=British+Shorthair&stick=H4sIAAAAAAAAAONgFuLQz9U3MKwsqlACs5KTjM21-P2L0hPzMotzQ_KdilJTUxaxCjoVZZZkFmcoBGfkF5VkJGYW7WBlBAC1AxqRPgAAAA',\n",
       "    'image': 'https://serpapi.com/searches/65e3f179ca968fce70b728f5/images/bc23b677c7dc8305d8ae65387b641531a700c6300db0194aca9a39be22df9521.jpeg'},\n",
       "   {'name': 'Maine Coon',\n",
       "    'link': 'https://www.google.com/search?num=1&sca_esv=b60573e6fd3d297f&q=Maine+Coon&stick=H4sIAAAAAAAAAONgFuLQz9U3MKwsqlACs7LMDLK0-P2L0hPzMotzQ_KdilJTUxaxcvkmZualKjjn5-ftYGUEAGEJqpQ3AAAA&sa=X&ved=2ahUKEwjnnKCblteEAxX2EFkFHbsaD7cQxA16BAgvEAc',\n",
       "    'serpapi_link': 'https://serpapi.com/search.json?device=desktop&engine=google&google_domain=google.com&num=1&q=Maine+Coon&stick=H4sIAAAAAAAAAONgFuLQz9U3MKwsqlACs7LMDLK0-P2L0hPzMotzQ_KdilJTUxaxcvkmZualKjjn5-ftYGUEAGEJqpQ3AAAA',\n",
       "    'image': 'https://serpapi.com/searches/65e3f179ca968fce70b728f5/images/bc23b677c7dc8305d8ae65387b641531a26b0212e27cf0215bb424cdbff9effd.jpeg'},\n",
       "   {'name': 'Persian cat',\n",
       "    'link': 'https://www.google.com/search?num=1&sca_esv=b60573e6fd3d297f&q=Persian+cat&stick=H4sIAAAAAAAAAONgFuLQz9U3MKwsqlACs7JMzMq0-P2L0hPzMotzQ_KdilJTUxaxcgekFhVnJuYpJCeW7GBlBABKW7RSOAAAAA&sa=X&ved=2ahUKEwjnnKCblteEAxX2EFkFHbsaD7cQxA16BAgvEAk',\n",
       "    'serpapi_link': 'https://serpapi.com/search.json?device=desktop&engine=google&google_domain=google.com&num=1&q=Persian+cat&stick=H4sIAAAAAAAAAONgFuLQz9U3MKwsqlACs7JMzMq0-P2L0hPzMotzQ_KdilJTUxaxcgekFhVnJuYpJCeW7GBlBABKW7RSOAAAAA',\n",
       "    'image': 'https://serpapi.com/searches/65e3f179ca968fce70b728f5/images/bc23b677c7dc8305d8ae65387b641531ad9ac94072e5f2ac8d91de789130dd78.jpeg'}]},\n",
       " 'organic_results': [{'position': 1,\n",
       "   'title': 'Cat',\n",
       "   'link': 'https://en.wikipedia.org/wiki/Cat',\n",
       "   'redirect_link': 'https://www.google.com/url?sa=t&source=web&rct=j&opi=89978449&url=https://en.wikipedia.org/wiki/Cat&ved=2ahUKEwjnnKCblteEAxX2EFkFHbsaD7cQFnoECCEQAQ',\n",
       "   'displayed_link': 'https://en.wikipedia.org › wiki › Cat',\n",
       "   'thumbnail': 'https://serpapi.com/searches/65e3f179ca968fce70b728f5/images/6a628cddabd945593000d23f531295a1150dc7d07f3d4267563ab7dc2f131346.jpeg',\n",
       "   'favicon': 'https://serpapi.com/searches/65e3f179ca968fce70b728f5/images/6a628cddabd945593000d23f531295a11c27ecb5e60564c47ffc4ead682ad16b.png',\n",
       "   'snippet': 'The cat (Felis catus), commonly referred to as the domestic cat or house cat, is the only domesticated species in the family Felidae.',\n",
       "   'snippet_highlighted_words': ['cat', 'cat', 'cat'],\n",
       "   'sitelinks': {'inline': [{'title': 'List of cat breeds',\n",
       "      'link': 'https://en.wikipedia.org/wiki/List_of_cat_breeds'},\n",
       "     {'title': 'Cat behavior',\n",
       "      'link': 'https://en.wikipedia.org/wiki/Cat_behavior'},\n",
       "     {'title': 'Cat anatomy',\n",
       "      'link': 'https://en.wikipedia.org/wiki/Cat_anatomy'},\n",
       "     {'title': 'Feral cat',\n",
       "      'link': 'https://en.wikipedia.org/wiki/Feral_cat'}]},\n",
       "   'source': 'Wikipedia'}],\n",
       " 'related_searches': [{'block_position': 1,\n",
       "   'query': 'cat or dog',\n",
       "   'link': 'https://www.google.com/search?num=1&sca_esv=b60573e6fd3d297f&q=Cat+or+dog&sa=X&ved=2ahUKEwjnnKCblteEAxX2EFkFHbsaD7cQ1QJ6BAgSEAE',\n",
       "   'serpapi_link': 'https://serpapi.com/search.json?device=desktop&engine=google&google_domain=google.com&num=1&q=Cat+or+dog'},\n",
       "  {'block_position': 1,\n",
       "   'query': 'cat drawing',\n",
       "   'link': 'https://www.google.com/search?num=1&sca_esv=b60573e6fd3d297f&q=Cat+drawing&sa=X&ved=2ahUKEwjnnKCblteEAxX2EFkFHbsaD7cQ1QJ6BAgTEAE',\n",
       "   'serpapi_link': 'https://serpapi.com/search.json?device=desktop&engine=google&google_domain=google.com&num=1&q=Cat+drawing'},\n",
       "  {'block_position': 1,\n",
       "   'query': 'cat game',\n",
       "   'link': 'https://www.google.com/search?num=1&sca_esv=b60573e6fd3d297f&q=Cat+game&sa=X&ved=2ahUKEwjnnKCblteEAxX2EFkFHbsaD7cQ1QJ6BAgREAE',\n",
       "   'serpapi_link': 'https://serpapi.com/search.json?device=desktop&engine=google&google_domain=google.com&num=1&q=Cat+game'},\n",
       "  {'block_position': 1,\n",
       "   'query': 'cat sound',\n",
       "   'link': 'https://www.google.com/search?num=1&sca_esv=b60573e6fd3d297f&q=Cat+sound&sa=X&ved=2ahUKEwjnnKCblteEAxX2EFkFHbsaD7cQ1QJ6BAgQEAE',\n",
       "   'serpapi_link': 'https://serpapi.com/search.json?device=desktop&engine=google&google_domain=google.com&num=1&q=Cat+sound'},\n",
       "  {'block_position': 1,\n",
       "   'query': 'cute cat',\n",
       "   'link': 'https://www.google.com/search?num=1&sca_esv=b60573e6fd3d297f&q=Cute+cat&sa=X&ved=2ahUKEwjnnKCblteEAxX2EFkFHbsaD7cQ1QJ6BAgPEAE',\n",
       "   'serpapi_link': 'https://serpapi.com/search.json?device=desktop&engine=google&google_domain=google.com&num=1&q=Cute+cat'},\n",
       "  {'block_position': 1,\n",
       "   'query': 'cat meme',\n",
       "   'link': 'https://www.google.com/search?num=1&sca_esv=b60573e6fd3d297f&q=Cat+meme&sa=X&ved=2ahUKEwjnnKCblteEAxX2EFkFHbsaD7cQ1QJ6BAgOEAE',\n",
       "   'serpapi_link': 'https://serpapi.com/search.json?device=desktop&engine=google&google_domain=google.com&num=1&q=Cat+meme'},\n",
       "  {'block_position': 1,\n",
       "   'query': 'cats for sale',\n",
       "   'link': 'https://www.google.com/search?num=1&sca_esv=b60573e6fd3d297f&q=Cats+for+sale&sa=X&ved=2ahUKEwjnnKCblteEAxX2EFkFHbsaD7cQ1QJ6BAgNEAE',\n",
       "   'serpapi_link': 'https://serpapi.com/search.json?device=desktop&engine=google&google_domain=google.com&num=1&q=Cats+for+sale'},\n",
       "  {'block_position': 1,\n",
       "   'query': 'cat full form',\n",
       "   'link': 'https://www.google.com/search?num=1&sca_esv=b60573e6fd3d297f&q=CAT+Full+Form&sa=X&ved=2ahUKEwjnnKCblteEAxX2EFkFHbsaD7cQ1QJ6BAgMEAE',\n",
       "   'serpapi_link': 'https://serpapi.com/search.json?device=desktop&engine=google&google_domain=google.com&num=1&q=CAT+Full+Form'}],\n",
       " 'pagination': {'current': 1,\n",
       "  'next': 'https://www.google.com/search?q=cat&oq=cat&num=1&start=1&sourceid=chrome&ie=UTF-8',\n",
       "  'other_pages': {'2': 'https://www.google.com/search?q=cat&oq=cat&num=1&start=1&sourceid=chrome&ie=UTF-8',\n",
       "   '3': 'https://www.google.com/search?q=cat&oq=cat&num=1&start=2&sourceid=chrome&ie=UTF-8',\n",
       "   '4': 'https://www.google.com/search?q=cat&oq=cat&num=1&start=3&sourceid=chrome&ie=UTF-8',\n",
       "   '5': 'https://www.google.com/search?q=cat&oq=cat&num=1&start=4&sourceid=chrome&ie=UTF-8'}},\n",
       " 'serpapi_pagination': {'current': 1,\n",
       "  'next_link': 'https://serpapi.com/search.json?device=desktop&engine=google&google_domain=google.com&num=1&q=cat&start=1',\n",
       "  'next': 'https://serpapi.com/search.json?device=desktop&engine=google&google_domain=google.com&num=1&q=cat&start=1',\n",
       "  'other_pages': {'2': 'https://serpapi.com/search.json?device=desktop&engine=google&google_domain=google.com&num=1&q=cat&start=1',\n",
       "   '3': 'https://serpapi.com/search.json?device=desktop&engine=google&google_domain=google.com&num=1&q=cat&start=2',\n",
       "   '4': 'https://serpapi.com/search.json?device=desktop&engine=google&google_domain=google.com&num=1&q=cat&start=3',\n",
       "   '5': 'https://serpapi.com/search.json?device=desktop&engine=google&google_domain=google.com&num=1&q=cat&start=4'}}}"
      ]
     },
     "execution_count": 39,
     "metadata": {},
     "output_type": "execute_result"
    }
   ],
   "source": []
  },
  {
   "cell_type": "code",
   "execution_count": 2,
   "metadata": {},
   "outputs": [
    {
     "ename": "KeyError",
     "evalue": "'news_results'",
     "output_type": "error",
     "traceback": [
      "\u001b[0;31m---------------------------------------------------------------------------\u001b[0m",
      "\u001b[0;31mKeyError\u001b[0m                                  Traceback (most recent call last)",
      "Cell \u001b[0;32mIn[2], line 16\u001b[0m\n\u001b[1;32m     14\u001b[0m search \u001b[38;5;241m=\u001b[39m GoogleSearch(params)\n\u001b[1;32m     15\u001b[0m results \u001b[38;5;241m=\u001b[39m search\u001b[38;5;241m.\u001b[39mget_dict()\n\u001b[0;32m---> 16\u001b[0m news_results \u001b[38;5;241m=\u001b[39m \u001b[43mresults\u001b[49m\u001b[43m[\u001b[49m\u001b[38;5;124;43m\"\u001b[39;49m\u001b[38;5;124;43mnews_results\u001b[39;49m\u001b[38;5;124;43m\"\u001b[39;49m\u001b[43m]\u001b[49m\n\u001b[1;32m     17\u001b[0m news_results\n",
      "\u001b[0;31mKeyError\u001b[0m: 'news_results'"
     ]
    }
   ],
   "source": [
    "from serpapi import GoogleSearch\n",
    "\n",
    "from_date = '2019-02-22'\n",
    "to_date = '2024-03-03'\n",
    "\n",
    "params = {\n",
    "  \"q\": 'Ambani Anant Ambani marriage site:http://indiatoday.in OR site:http://timesofindia.indiatimes.com',\n",
    "  \"tbm\": \"nws\",\n",
    "  \"api_key\": \"d7555dcb6698cf4004b757eeade1ac86a425b101cb972691dc757282f353d9f6\",\n",
    "  \"tbs\": f\"cdr:1,cd_min:{from_date.replace('-', '/')},cd_max:{to_date.replace('-', '/')}\",\n",
    "  'num' : 100\n",
    "}\n",
    "\n",
    "search = GoogleSearch(params)\n",
    "results = search.get_dict()\n",
    "news_results = results[\"news_results\"]\n",
    "news_results"
   ]
  },
  {
   "cell_type": "code",
   "execution_count": 3,
   "metadata": {},
   "outputs": [
    {
     "data": {
      "text/plain": [
       "{'search_metadata': {'id': '65e3fcbf477c0e45c476fabf',\n",
       "  'status': 'Success',\n",
       "  'json_endpoint': 'https://serpapi.com/searches/1aaeaac6d67b6acc/65e3fcbf477c0e45c476fabf.json',\n",
       "  'created_at': '2024-03-03 04:29:51 UTC',\n",
       "  'processed_at': '2024-03-03 04:29:51 UTC',\n",
       "  'google_url': 'https://www.google.com/search?q=Ambani+Anant+Ambani+marriage+site%3Ahttp%3A%2F%2Findiatoday.in+OR+site%3Ahttp%3A%2F%2Ftimesofindia.indiatimes.com&oq=Ambani+Anant+Ambani+marriage+site%3Ahttp%3A%2F%2Findiatoday.in+OR+site%3Ahttp%3A%2F%2Ftimesofindia.indiatimes.com&num=100&tbm=nws&tbs=cdr:1,cd_min:2019/02/22,cd_max:2024/03/03&sourceid=chrome&ie=UTF-8',\n",
       "  'raw_html_file': 'https://serpapi.com/searches/1aaeaac6d67b6acc/65e3fcbf477c0e45c476fabf.html',\n",
       "  'total_time_taken': 0.83},\n",
       " 'search_parameters': {'engine': 'google',\n",
       "  'q': 'Ambani Anant Ambani marriage site:http://indiatoday.in OR site:http://timesofindia.indiatimes.com',\n",
       "  'google_domain': 'google.com',\n",
       "  'num': '100',\n",
       "  'device': 'desktop',\n",
       "  'tbm': 'nws',\n",
       "  'tbs': 'cdr:1,cd_min:2019/02/22,cd_max:2024/03/03'},\n",
       " 'search_information': {'query_displayed': 'Ambani Anant Ambani marriage site:http://indiatoday.in OR site:http://timesofindia.indiatimes.com',\n",
       "  'news_results_state': 'Fully empty'},\n",
       " 'error': \"Google hasn't returned any results for this query.\"}"
      ]
     },
     "execution_count": 3,
     "metadata": {},
     "output_type": "execute_result"
    }
   ],
   "source": [
    "results"
   ]
  },
  {
   "cell_type": "code",
   "execution_count": 1,
   "metadata": {},
   "outputs": [],
   "source": [
    "import smtplib\n",
    "from email.mime.text import MIMEText\n",
    "from email.mime.multipart import MIMEMultipart\n",
    "\n",
    "def send_email(sender_email, sender_password, receiver_email, subject, message):\n",
    "    # Set up the MIME\n",
    "    msg = MIMEMultipart()\n",
    "    msg['From'] = sender_email\n",
    "    msg['To'] = receiver_email\n",
    "    msg['Subject'] = subject\n",
    "\n",
    "    # Attach the message to the email\n",
    "    msg.attach(MIMEText(message, 'plain'))\n",
    "\n",
    "    # Create SMTP session\n",
    "    server = smtplib.SMTP('smtp.gmail.com', 587)\n",
    "    server.starttls()\n",
    "\n",
    "    # Login to the SMTP server\n",
    "    server.login(sender_email, sender_password)\n",
    "\n",
    "    # Send email\n",
    "    server.sendmail(sender_email, receiver_email, msg.as_string())\n",
    "\n",
    "    # Terminate the SMTP session\n",
    "    server.quit()"
   ]
  },
  {
   "cell_type": "code",
   "execution_count": null,
   "metadata": {},
   "outputs": [],
   "source": [
    "sender_email = \"trolldude326@gmail.com\"\n",
    "sender_password = \"mafazu03\"\n",
    "\n",
    "receiver_email = \"petraoil.prod@gmail.com\"\n",
    "subject = \"test\"\n",
    "message = \"Hello world!\"\n",
    "\n",
    "send_email(sender_email, sender_password, receiver_email, subject, message)"
   ]
  },
  {
   "cell_type": "code",
   "execution_count": 26,
   "metadata": {},
   "outputs": [],
   "source": [
    "import smtplib\n",
    "import ssl\n",
    "import certifi\n",
    "from email.mime.multipart import MIMEMultipart\n",
    "from email.mime.text import MIMEText\n",
    "from email.mime.image import MIMEImage\n",
    "\n",
    "port = 587  # For starttls\n",
    "smtp_server = \"smtp.gmail.com\"\n",
    "sender_email = \"bat463660@gmail.com\"\n",
    "receiver_email = \"petraoil.prod@gmail.com\"\n",
    "password = \"bygc aape tnem adev\"\n",
    "\n",
    "# Create a multipart message\n",
    "message = MIMEMultipart()\n",
    "message[\"From\"] = sender_email\n",
    "message[\"To\"] = receiver_email\n",
    "message[\"Subject\"] = \"Subject: Hello\"\n",
    "\n",
    "# Add body to email\n",
    "message.attach(MIMEText(\"wow\", \"plain\"))\n",
    "\n",
    "# Open the image file and attach it to the email\n",
    "with open(\"dashboard/dashboard_plot.png\", \"rb\") as attachment:\n",
    "    image_part = MIMEImage(attachment.read(), name=\"dashbaord.jpg\")\n",
    "\n",
    "# Add image to the email\n",
    "message.attach(image_part)\n",
    "\n",
    "context = ssl.create_default_context(cafile=certifi.where())\n",
    "\n",
    "with smtplib.SMTP(smtp_server, port) as server:\n",
    "    server.starttls(context=context)\n",
    "    server.login(sender_email, password)\n",
    "    server.sendmail(sender_email, receiver_email, message.as_string())\n"
   ]
  },
  {
   "cell_type": "code",
   "execution_count": 30,
   "metadata": {},
   "outputs": [
    {
     "name": "stdout",
     "output_type": "stream",
     "text": [
      "┄┄┄┄┄┄┄┄┄┄┄┄┄┄┄┄┄┄┄┄┄┄┄┄┄┄┄┄┄┄┄┄┄┄┄┄┄┄┄┄ Search Bar Scrape ┄┄┄┄┄┄┄┄┄┄┄┄┄┄┄┄┄┄┄┄┄┄┄┄┄┄┄┄┄┄┄┄┄┄┄┄┄┄┄┄┄\n"
     ]
    }
   ],
   "source": [
    "S = \" Search Bar Scrape \"\n",
    "print(S.center(100, '┄'))"
   ]
  },
  {
   "cell_type": "code",
   "execution_count": 31,
   "metadata": {},
   "outputs": [
    {
     "data": {
      "text/plain": [
       "'┄┄┄┄50┄┄┄┄'"
      ]
     },
     "execution_count": 31,
     "metadata": {},
     "output_type": "execute_result"
    }
   ],
   "source": []
  },
  {
   "cell_type": "code",
   "execution_count": 73,
   "metadata": {},
   "outputs": [],
   "source": [
    "def progress_bar_once(word, percentage = None, num = 30, ascii = \"┄\", title = False):\n",
    "    if title:\n",
    "        S1 = word.center(num, \"=\")\n",
    "        return S1\n",
    "    else:\n",
    "        S1 = word.center(num, ascii)\n",
    "        if percentage: return \"├\" + S1 + \"→  \" + str(percentage) + '%'\n",
    "        else:\n",
    "            return \"├\" + S1 + \"→  \""
   ]
  },
  {
   "cell_type": "code",
   "execution_count": 74,
   "metadata": {},
   "outputs": [
    {
     "data": {
      "text/plain": [
       "'├┄┄┄┄┄┄┄┄┄┄Completed┄┄┄┄┄┄┄┄┄┄┄→  20%'"
      ]
     },
     "execution_count": 74,
     "metadata": {},
     "output_type": "execute_result"
    }
   ],
   "source": [
    "progress_bar_once(\"Completed\", 20, num = 30)"
   ]
  },
  {
   "cell_type": "code",
   "execution_count": 85,
   "metadata": {},
   "outputs": [
    {
     "data": {
      "text/plain": [
       "20.0"
      ]
     },
     "execution_count": 85,
     "metadata": {},
     "output_type": "execute_result"
    }
   ],
   "source": [
    "100/5"
   ]
  },
  {
   "cell_type": "code",
   "execution_count": 99,
   "metadata": {},
   "outputs": [
    {
     "name": "stdout",
     "output_type": "stream",
     "text": [
      "Status: 20.00% completed\n",
      "Status: 40.00% completed\n",
      "Status: 60.00% completed\n",
      "Status: 80.00% completed\n",
      "Status: 100.00% completed\n"
     ]
    }
   ],
   "source": [
    "\n",
    "my_list = [1, 2, 3, 4, 5, 6, 7, 8, 9, 10]\n",
    "total_items = len(my_list)\n",
    "\n",
    "items_completed = 0\n",
    "for item in my_list:\n",
    "    \n",
    "    items_completed += 1\n",
    "    if items_completed % (total_items // 5) == 0:\n",
    "        percentage_complete = (items_completed / total_items) * 100\n",
    "        print(f\"Status: {percentage_complete:.2f}% completed\")"
   ]
  },
  {
   "cell_type": "code",
   "execution_count": 94,
   "metadata": {},
   "outputs": [
    {
     "name": "stdout",
     "output_type": "stream",
     "text": [
      "0\n",
      "5\n",
      "10\n",
      "15\n",
      "20\n",
      "25\n",
      "30\n",
      "35\n",
      "40\n",
      "45\n",
      "50\n",
      "55\n",
      "60\n",
      "65\n",
      "70\n",
      "75\n",
      "80\n",
      "85\n",
      "90\n",
      "95\n",
      "100\n",
      "105\n",
      "110\n",
      "115\n",
      "120\n",
      "125\n",
      "130\n",
      "135\n",
      "140\n",
      "145\n",
      "150\n",
      "155\n",
      "160\n",
      "165\n",
      "170\n",
      "175\n",
      "180\n",
      "185\n",
      "190\n",
      "195\n"
     ]
    }
   ],
   "source": [
    "for i in range(200):\n",
    "    if i % 5 == 0:\n",
    "        print(i)"
   ]
  },
  {
   "cell_type": "code",
   "execution_count": 47,
   "metadata": {},
   "outputs": [
    {
     "data": {
      "text/plain": [
       "'├┄┄┄┄┄┄┄┄┄┄┄┄Hello┄┄┄┄┄┄┄┄┄┄┄┄┄→  54%'"
      ]
     },
     "execution_count": 47,
     "metadata": {},
     "output_type": "execute_result"
    }
   ],
   "source": [
    "progress_bar_once(\"Hello\", 54)"
   ]
  },
  {
   "cell_type": "code",
   "execution_count": 43,
   "metadata": {},
   "outputs": [
    {
     "data": {
      "text/plain": [
       "'├┄┄┄┄┄┄┄┄┄┄┄┄Hello┄┄┄┄┄┄┄┄┄┄┄┄┄→  '"
      ]
     },
     "execution_count": 43,
     "metadata": {},
     "output_type": "execute_result"
    }
   ],
   "source": [
    "progress_bar_once(\"Hello\")"
   ]
  },
  {
   "cell_type": "code",
   "execution_count": 50,
   "metadata": {},
   "outputs": [
    {
     "data": {
      "text/plain": [
       "'===============================================Hello================================================'"
      ]
     },
     "execution_count": 50,
     "metadata": {},
     "output_type": "execute_result"
    }
   ],
   "source": [
    "progress_bar_once(\"Hello\", num = 100, title=True)"
   ]
  },
  {
   "cell_type": "code",
   "execution_count": 34,
   "metadata": {},
   "outputs": [
    {
     "name": "stdout",
     "output_type": "stream",
     "text": [
      "├┄┄┄┄┄┄┄┄┄┄┄┄┄┄┄┄┄┄┄┄┄┄┄┄┄┄┄┄┄┄┄┄┄┄┄┄┄┄┄┄┄┄┄┄┄┄Sometest┄┄┄┄┄┄┄┄┄┄┄┄┄┄┄┄┄┄┄┄┄┄┄┄┄┄┄┄┄┄┄┄┄┄┄┄┄┄┄┄┄┄┄┄┄┄→  12%\n",
      "├┄┄┄┄┄┄┄┄┄┄┄┄┄┄┄┄┄┄┄┄┄┄┄┄┄┄┄┄┄┄┄┄┄┄┄┄┄┄┄┄┄┄┄┄┄┄Sometest┄┄┄┄┄┄┄┄┄┄┄┄┄┄┄┄┄┄┄┄┄┄┄┄┄┄┄┄┄┄┄┄┄┄┄┄┄┄┄┄┄┄┄┄┄┄→  25%\n",
      "├┄┄┄┄┄┄┄┄┄┄┄┄┄┄┄┄┄┄┄┄┄┄┄┄┄┄┄┄┄┄┄┄┄┄┄┄┄┄┄┄┄┄┄┄┄┄Sometest┄┄┄┄┄┄┄┄┄┄┄┄┄┄┄┄┄┄┄┄┄┄┄┄┄┄┄┄┄┄┄┄┄┄┄┄┄┄┄┄┄┄┄┄┄┄→  37%\n",
      "├┄┄┄┄┄┄┄┄┄┄┄┄┄┄┄┄┄┄┄┄┄┄┄┄┄┄┄┄┄┄┄┄┄┄┄┄┄┄┄┄┄┄┄┄┄┄Sometest┄┄┄┄┄┄┄┄┄┄┄┄┄┄┄┄┄┄┄┄┄┄┄┄┄┄┄┄┄┄┄┄┄┄┄┄┄┄┄┄┄┄┄┄┄┄→  50%\n"
     ]
    }
   ],
   "source": [
    "from time import sleep\n",
    "\n",
    "\n",
    "a = ['q','b',1,3]\n",
    "\n",
    "\n",
    "for i, _ in enumerate(a, start=1):\n",
    "    max = len(a)\n",
    "    progress = int(i/max * 50)\n",
    "\n",
    "    S1 = \"Sometest\".center(100,\"┄\")\n",
    "    print(\"├\" + S1 + \"→  \" + str(progress) + '%')\n",
    "\n",
    "\n",
    "    sleep(0.1)\n"
   ]
  },
  {
   "cell_type": "code",
   "execution_count": 13,
   "metadata": {},
   "outputs": [
    {
     "data": {
      "text/plain": [
       "33"
      ]
     },
     "execution_count": 13,
     "metadata": {},
     "output_type": "execute_result"
    }
   ],
   "source": [
    "int(1/3 * 100)"
   ]
  },
  {
   "cell_type": "code",
   "execution_count": 34,
   "metadata": {},
   "outputs": [
    {
     "name": "stdout",
     "output_type": "stream",
     "text": [
      "Element 1: 14.29%\n",
      "Element 2: 28.57%\n",
      "Element 3: 42.86%\n",
      "Element 4: 57.14%\n",
      "Element 5: 71.43%\n",
      "Element 6: 85.71%\n",
      "Element 7: 100.00%\n"
     ]
    }
   ],
   "source": [
    "a = ['q', 'b', 1, 3, 3, 4, 5]\n",
    "\n",
    "num_outputs = min(52, len(a))\n",
    "counter = 0\n",
    "\n",
    "for i, _ in enumerate(a):\n",
    "    if counter >= num_outputs:\n",
    "        break\n",
    "    \n",
    "    percentage = ((i + 1) / len(a)) * 100\n",
    "    print(f\"Element {i + 1}: {percentage:.2f}%\")\n",
    "    counter += 1\n"
   ]
  },
  {
   "cell_type": "code",
   "execution_count": 23,
   "metadata": {},
   "outputs": [
    {
     "data": {
      "text/plain": [
       "10.0"
      ]
     },
     "execution_count": 23,
     "metadata": {},
     "output_type": "execute_result"
    }
   ],
   "source": [
    "a = ['q', 'b', 1, 3, 3, 4, 5]\n",
    "\n",
    "for i, _ in enumerate(a):\n",
    "    percentage = ((i + 1) / len(a)) * 100\n",
    "    print(f\"Element {i + 1}: {percentage:.2f}%\")"
   ]
  },
  {
   "cell_type": "code",
   "execution_count": 53,
   "metadata": {},
   "outputs": [
    {
     "data": {
      "text/plain": [
       "20"
      ]
     },
     "execution_count": 53,
     "metadata": {},
     "output_type": "execute_result"
    }
   ],
   "source": [
    "100//5"
   ]
  },
  {
   "cell_type": "code",
   "execution_count": 66,
   "metadata": {},
   "outputs": [],
   "source": [
    "def percentage_calc(total_iterations, total_elements, iteration, starts_with = 1):\n",
    "    percentage_step = 100 / total_iterations\n",
    "\n",
    "    if starts_with == 0: completion_percentage = round(i+1 * percentage_step, 2)\n",
    "    else: completion_percentage = round(i * percentage_step, 2)\n",
    "    return completion_percentage"
   ]
  },
  {
   "cell_type": "code",
   "execution_count": 68,
   "metadata": {},
   "outputs": [
    {
     "data": {
      "text/plain": [
       "120.0"
      ]
     },
     "execution_count": 68,
     "metadata": {},
     "output_type": "execute_result"
    }
   ],
   "source": [
    "percentage_calc(total_elements= 100, total_iterations=5, iteration=100)"
   ]
  },
  {
   "cell_type": "code",
   "execution_count": 65,
   "metadata": {},
   "outputs": [
    {
     "name": "stdout",
     "output_type": "stream",
     "text": [
      "Completed: 16.67%\n",
      "Completed: 33.33%\n",
      "Completed: 50.0%\n",
      "Completed: 66.67%\n",
      "Completed: 83.33%\n",
      "Completed: 100.0%\n"
     ]
    }
   ],
   "source": [
    "a = ['q', 'b', 1, 3, 3, 4, 5]\n",
    "\n",
    "total_iterations = 6\n",
    "total_elements = len(a)\n",
    "percentage_step = 100 / total_iterations\n",
    "\n",
    "for i in range(1, total_iterations + 1):\n",
    "    completion_percentage = round(i * percentage_step, 2)\n",
    "    print(f\"Completed: {completion_percentage}%\")\n"
   ]
  },
  {
   "cell_type": "code",
   "execution_count": 1,
   "metadata": {},
   "outputs": [],
   "source": [
    "import smtplib\n",
    "from email.mime.multipart import MIMEMultipart\n",
    "from email.mime.text import MIMEText\n",
    "from email.mime.base import MIMEBase\n",
    "from email import encoders\n",
    "\n",
    "def send_email(sender_email, sender_password, receiver_email, subject, body, attachment_path):\n",
    "    # Set up the SMTP server\n",
    "    smtp_server = \"smtp.gmail.com\"\n",
    "    smtp_port = 587  # For TLS\n",
    "\n",
    "    # Create a multipart message and set headers\n",
    "    message = MIMEMultipart()\n",
    "    message[\"From\"] = sender_email\n",
    "    message[\"To\"] = receiver_email\n",
    "    message[\"Subject\"] = subject\n",
    "\n",
    "    # Add body to email\n",
    "    message.attach(MIMEText(body, \"plain\"))\n",
    "\n",
    "    # Open the file in binary mode\n",
    "    with open(attachment_path, \"rb\") as attachment:\n",
    "        # Add file as application/octet-stream\n",
    "        # Email client can usually download this automatically as attachment\n",
    "        part = MIMEBase(\"application\", \"octet-stream\")\n",
    "        part.set_payload(attachment.read())\n",
    "\n",
    "    # Encode file in ASCII characters to send by email    \n",
    "    encoders.encode_base64(part)\n",
    "\n",
    "    # Add header as key/value pair to attachment part\n",
    "    part.add_header(\n",
    "        \"Content-Disposition\",\n",
    "        f\"attachment; filename= {attachment_path}\",\n",
    "    )\n",
    "\n",
    "    # Add attachment to message and convert message to string\n",
    "    message.attach(part)\n",
    "    text = message.as_string()\n",
    "\n",
    "    # Log in to server and send email\n",
    "    with smtplib.SMTP(smtp_server, smtp_port) as server:\n",
    "        server.starttls()  # Secure the connection\n",
    "        server.login(sender_email, sender_password)\n",
    "        server.sendmail(sender_email, receiver_email, text)\n",
    "\n",
    "\n"
   ]
  },
  {
   "cell_type": "code",
   "execution_count": 3,
   "metadata": {},
   "outputs": [],
   "source": [
    "import datetime as dt\n",
    "def get_indian_date_time(): return dt.datetime.now(dt.timezone(dt.timedelta(hours=5, minutes=30))).strftime(\"%dth %b %Y, %I:%M%p\")\n",
    "india_time = get_indian_date_time()"
   ]
  },
  {
   "cell_type": "code",
   "execution_count": 4,
   "metadata": {},
   "outputs": [],
   "source": [
    "sender_email = \"bat463660@gmail.com\"\n",
    "sender_password = \"bygc aape tnem adev\"\n",
    "receiver_email = \"mohdmafaz200303@gmail.com\"\n",
    "subject = f\"Subject: {india_time}.txt\"\n",
    "body = \"Text File\"\n",
    "\n",
    "# Path to the attachment file\n",
    "attachment_path = \"/Users/mohamedmafaz/Downloads/Webscraping 3/Output text/2024-03-17 20:13:49.018842.txt\"\n",
    "\n",
    "send_email(sender_email, sender_password, receiver_email, subject, body, attachment_path)"
   ]
  },
  {
   "cell_type": "code",
   "execution_count": 8,
   "metadata": {},
   "outputs": [],
   "source": [
    "import os\n",
    "import datetime\n",
    "\n",
    "def get_file_dates(file):\n",
    "    \"\"\"\n",
    "    Get the last modified and creation dates of the given file.\n",
    "    \"\"\"\n",
    "    try:\n",
    "        last_modified = time.ctime(os.path.getmtime(file))\n",
    "        created = time.ctime(os.path.getctime(file))\n",
    "        return last_modified, created\n",
    "    except OSError:\n",
    "        return None, None\n",
    "\n"
   ]
  },
  {
   "cell_type": "code",
   "execution_count": 22,
   "metadata": {},
   "outputs": [],
   "source": [
    "import os\n",
    "import datetime\n",
    "def modification_date(filename):\n",
    "    t = os.path.getmtime(filename)\n",
    "    return datetime.datetime.fromtimestamp(t)"
   ]
  },
  {
   "cell_type": "code",
   "execution_count": 23,
   "metadata": {},
   "outputs": [
    {
     "data": {
      "text/plain": [
       "datetime.datetime(2024, 3, 18, 17, 10, 44, 471628)"
      ]
     },
     "execution_count": 23,
     "metadata": {},
     "output_type": "execute_result"
    }
   ],
   "source": [
    "modification_date(\"Output text\")"
   ]
  },
  {
   "cell_type": "code",
   "execution_count": null,
   "metadata": {},
   "outputs": [],
   "source": [
    "/Users/mohamedmafaz/Downloads/Webscraping 3/Output text/2024-02-04 18:08:11.707601.txt"
   ]
  },
  {
   "cell_type": "code",
   "execution_count": 25,
   "metadata": {},
   "outputs": [
    {
     "data": {
      "text/plain": [
       "datetime.datetime(2024, 3, 8, 18, 13, 9)"
      ]
     },
     "execution_count": 25,
     "metadata": {},
     "output_type": "execute_result"
    }
   ],
   "source": [
    "modification_date(\"/Users/mohamedmafaz/Downloads/Webscraping 3/Output text/2024-02-04 18:08:11.707601.txt\")"
   ]
  },
  {
   "cell_type": "code",
   "execution_count": 27,
   "metadata": {},
   "outputs": [],
   "source": [
    "file = \"/Users/mohamedmafaz/Downloads/Webscraping 3/Output text/2024-02-04 18:08:11.707601.txt\""
   ]
  },
  {
   "cell_type": "code",
   "execution_count": 45,
   "metadata": {},
   "outputs": [
    {
     "name": "stdout",
     "output_type": "stream",
     "text": [
      "Deleted: Plots 2/.DS_Store\n",
      "Deleted: Plots 2/2024-03-17 14:45:49.373238.jpg\n",
      "Deleted: Plots 2/2024-03-17 15:01:01.467405.jpg\n",
      "Deleted: Plots 2/2024-03-17 15:09:04.958148.jpg\n",
      "Deleted: Plots 2/2024-03-17 15:17:56.563081.jpg\n",
      "Deleted: Plots 2/2024-03-17 15:19:35.660935.jpg\n",
      "Deleted: Plots 2/2024-03-17 15:03:53.792796.jpg\n",
      "Deleted: Plots 2/2024-03-17 14:47:13.036850.jpg\n",
      "Deleted: Plots 2/2024-03-17 15:18:25.562400.jpg\n",
      "Deleted: Plots 2/2024-03-08 00:17:13.768983.jpg\n",
      "Deleted: Plots 2/2024-03-17 15:04:15.729400.jpg\n",
      "Deleted: Plots 2/2024-03-08 01:14:36.603416.jpg\n",
      "Deleted: Plots 2/2024-03-08 08:46:58.811708.jpg\n",
      "Deleted: Plots 2/2024-03-17 15:06:51.670299.jpg\n",
      "Deleted: Plots 2/2024-03-18 17:10:26.959493.jpg\n",
      "Deleted: Plots 2/2024-03-17 20:13:31.003900.jpg\n",
      "Deleted: Plots 2/2024-03-08 11:06:22.089434.jpg\n",
      "Deleted: Plots 2/2024-03-08 08:54:50.441739.jpg\n",
      "Deleted: Plots 2/2024-03-08 00:09:30.556173.jpg\n",
      "Total files deleted: 19\n"
     ]
    }
   ],
   "source": [
    "import os\n",
    "\n",
    "def delete_files_until_limit(directory, limit):\n",
    "    size_limit = limit * 1024 * 1024  # 20MB\n",
    "\n",
    "    def get_file_info(directory):\n",
    "        file_info = []\n",
    "        for root, dirs, files in os.walk(directory):\n",
    "            for file_name in files:\n",
    "                file_path = os.path.join(root, file_name)\n",
    "                file_size = os.path.getsize(file_path)\n",
    "                file_info.append((file_path, file_size))\n",
    "        file_info.sort(key=lambda x: x[1])\n",
    "        return file_info\n",
    "\n",
    "    total_size = sum(file[1] for file in get_file_info(directory))\n",
    "    files_deleted = 0\n",
    "\n",
    "    while total_size > size_limit:\n",
    "        file_info = get_file_info(directory)\n",
    "        if not file_info:\n",
    "            print(\"No more files to delete.\")\n",
    "            break\n",
    "\n",
    "        file_path, file_size = file_info.pop(0)\n",
    "        try:\n",
    "            os.remove(file_path)\n",
    "            total_size -= file_size\n",
    "            files_deleted += 1\n",
    "            print(f\"Deleted: {file_path}\")\n",
    "        except Exception as e:\n",
    "            print(f\"Error deleting {file_path}: {e}\")\n",
    "\n",
    "    print(f\"Total files deleted: {files_deleted}\")\n",
    "\n",
    "# Example usage:\n",
    "directory_path = \"Plots 2\"\n",
    "\n",
    "delete_files_until_limit(directory_path, limit = 0.1)\n"
   ]
  },
  {
   "cell_type": "code",
   "execution_count": 29,
   "metadata": {},
   "outputs": [
    {
     "name": "stdout",
     "output_type": "stream",
     "text": [
      "Date created: Sun Mar 17 17:02:43 2024\n",
      "Date created: 2024-03-17 17:02:43.926954\n",
      "Date created: 17/03/2024 17:02:43\n"
     ]
    }
   ],
   "source": [
    "created = os.path.getctime(file)\n",
    "print(\"Date created: \"+time.ctime(created))\n",
    "print(\"Date created:\",datetime.datetime.fromtimestamp(created))\n",
    "year,month,day,hour,minute,second=time.localtime(created)[:-3]\n",
    "print(\"Date created: %02d/%02d/%d %02d:%02d:%02d\"%(day,month,year,hour,minute,second))"
   ]
  }
 ],
 "metadata": {
  "kernelspec": {
   "display_name": "Python 3",
   "language": "python",
   "name": "python3"
  },
  "language_info": {
   "codemirror_mode": {
    "name": "ipython",
    "version": 3
   },
   "file_extension": ".py",
   "mimetype": "text/x-python",
   "name": "python",
   "nbconvert_exporter": "python",
   "pygments_lexer": "ipython3",
   "version": "3.11.5"
  }
 },
 "nbformat": 4,
 "nbformat_minor": 2
}
