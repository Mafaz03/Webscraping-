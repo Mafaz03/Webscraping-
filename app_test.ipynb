{
 "cells": [
  {
   "cell_type": "markdown",
   "metadata": {},
   "source": [
    "## Importing Dependencies"
   ]
  },
  {
   "cell_type": "code",
   "execution_count": 1,
   "metadata": {},
   "outputs": [],
   "source": [
    "import requests\n",
    "from htmldate import find_date\n",
    "from datetime import datetime\n",
    "import requests\n",
    "import re\n",
    "from bs4 import BeautifulSoup\n",
    "import ssl\n",
    "from tqdm import tqdm\n",
    "from textblob import TextBlob\n",
    "import openai\n",
    "import multiprocessing\n",
    "from time import time\n",
    "\n",
    "from html_extractor import *\n",
    "from get_suburls import *\n",
    "from openai_func import *\n",
    "from get_date import *\n",
    "from parallel import *\n",
    "\n",
    "from time import sleep\n",
    "\n",
    "from keyword_extraction import keyword_extractor_paragraph as kep"
   ]
  },
  {
   "cell_type": "markdown",
   "metadata": {},
   "source": [
    "## Extracting sub urls"
   ]
  },
  {
   "cell_type": "code",
   "execution_count": 2,
   "metadata": {},
   "outputs": [
    {
     "name": "stderr",
     "output_type": "stream",
     "text": [
      "  0%|          | 0/2 [00:00<?, ?it/s]"
     ]
    },
    {
     "name": "stderr",
     "output_type": "stream",
     "text": [
      "100%|██████████| 2/2 [00:01<00:00,  1.68it/s]\n",
      "100%|██████████| 5/5 [00:06<00:00,  1.29s/it]\n",
      "100%|██████████| 66/66 [00:23<00:00,  2.79it/s]\n"
     ]
    },
    {
     "name": "stdout",
     "output_type": "stream",
     "text": [
      "Failed Fetch: 0\n",
      "Splits: 4\n",
      "Tree size: 181\n"
     ]
    }
   ],
   "source": [
    "urls_list = [\"https://www.khaleejtimes.com\" , \"https://www.indiatoday.in\"]\n",
    "urls_list_str = \",\".join(urls_list)\n",
    "\n",
    "keywords = \"gaza,israel,hamas,idf\"\n",
    "\n",
    "scraper = WebScraper2(sub_url_size = 3 , keywords = keywords)\n",
    "                        # Integration with DB will make it faster in future, as fetching is much faster than scrapping.\n",
    "inside_urls, failed_fetch, sub_url_size, total_size = scraper.get_suburls2(urls_list_str)\n",
    "\n",
    "# print(\"Inside URLs:\", inside_urls)\n",
    "print(\"Failed Fetch:\", failed_fetch)\n",
    "print(\"Splits:\", len(inside_urls))\n",
    "print(\"Tree size:\", total_size)"
   ]
  },
  {
   "cell_type": "markdown",
   "metadata": {},
   "source": [
    "## Joining sub urls into one single list"
   ]
  },
  {
   "cell_type": "code",
   "execution_count": 3,
   "metadata": {},
   "outputs": [
    {
     "name": "stdout",
     "output_type": "stream",
     "text": [
      "181\n"
     ]
    }
   ],
   "source": [
    "website_urls = [item for sublist in list(inside_urls.values()) for item in sublist]\n",
    "print(len(website_urls))\n"
   ]
  },
  {
   "cell_type": "markdown",
   "metadata": {},
   "source": [
    "## Testing Date Fetching\n",
    "\n",
    "Need to integrate Mongo "
   ]
  },
  {
   "cell_type": "code",
   "execution_count": 4,
   "metadata": {},
   "outputs": [
    {
     "data": {
      "text/plain": [
       "('https://www.indiatoday.in/topic/israel', '12-09-2019')"
      ]
     },
     "execution_count": 4,
     "metadata": {},
     "output_type": "execute_result"
    }
   ],
   "source": [
    "fetch_date_from_url(website_urls[3])"
   ]
  },
  {
   "cell_type": "markdown",
   "metadata": {},
   "source": [
    "## Creating {url : html content} dictionary"
   ]
  },
  {
   "cell_type": "code",
   "execution_count": 4,
   "metadata": {},
   "outputs": [
    {
     "name": "stderr",
     "output_type": "stream",
     "text": [
      "100%|██████████| 181/181 [00:59<00:00,  3.03it/s]\n"
     ]
    }
   ],
   "source": [
    "url_html_extracted = get_html(website_urls)\n",
    "# url_html_extracted"
   ]
  },
  {
   "cell_type": "markdown",
   "metadata": {},
   "source": [
    "## Keyword extraction performed on above dictionary"
   ]
  },
  {
   "cell_type": "code",
   "execution_count": 5,
   "metadata": {},
   "outputs": [
    {
     "name": "stderr",
     "output_type": "stream",
     "text": [
      "100%|██████████| 118/118 [00:00<00:00, 8663.04it/s]\n"
     ]
    }
   ],
   "source": [
    "url_extracted_html = kep(website_content = url_html_extracted[0], keywords = keywords, filter_by_amount = 60)\n",
    "\n",
    "# url_extracted_html"
   ]
  },
  {
   "cell_type": "markdown",
   "metadata": {},
   "source": [
    "## Converting dictionary to list of tuple pairs, for implementation of batches"
   ]
  },
  {
   "cell_type": "code",
   "execution_count": 6,
   "metadata": {},
   "outputs": [],
   "source": [
    "content_list = [(key,value[:2000]) for key, value in url_extracted_html.items()] # 1000 is temporary until tokenier function is not set up\n",
    "# content_list"
   ]
  },
  {
   "cell_type": "markdown",
   "metadata": {},
   "source": [
    "## Cutting the above list fo batches of batch size MAX_CONTENT"
   ]
  },
  {
   "cell_type": "code",
   "execution_count": 7,
   "metadata": {},
   "outputs": [
    {
     "data": {
      "text/plain": [
       "24"
      ]
     },
     "execution_count": 7,
     "metadata": {},
     "output_type": "execute_result"
    }
   ],
   "source": [
    "MAX_CONTENT = 5\n",
    "\n",
    "content_list_complete = []\n",
    "\n",
    "iterations = len(content_list) // MAX_CONTENT\n",
    "\n",
    "\n",
    "for i in range(iterations):\n",
    "    sub_content_list = content_list[MAX_CONTENT * i: MAX_CONTENT * (i + 1)]\n",
    "    content_list_complete.append(sub_content_list)\n",
    "\n",
    "# Handle remaining elements after the loop\n",
    "remaining_elements = content_list[MAX_CONTENT * iterations:]\n",
    "if remaining_elements:\n",
    "    iterations += 1\n",
    "    content_list_complete.append(remaining_elements)\n",
    "\n",
    "len(content_list_complete)"
   ]
  },
  {
   "cell_type": "markdown",
   "metadata": {},
   "source": [
    "## Openai's api"
   ]
  },
  {
   "cell_type": "markdown",
   "metadata": {},
   "source": [
    "### Non parallel execution of 1 api"
   ]
  },
  {
   "cell_type": "code",
   "execution_count": 21,
   "metadata": {},
   "outputs": [
    {
     "name": "stdout",
     "output_type": "stream",
     "text": [
      "Batch 1 out of 24 completed \n",
      "Batch 2 out of 24 completed \n",
      "Batch 3 out of 24 completed \n",
      "Batch 4 out of 24 completed \n",
      "Batch 5 out of 24 completed \n",
      "Batch 6 out of 24 completed \n",
      "Batch 7 out of 24 completed \n",
      "Batch 8 out of 24 completed \n",
      "Batch 9 out of 24 completed \n",
      "Batch 10 out of 24 completed \n",
      "Executed in 216.86s\n"
     ]
    }
   ],
   "source": [
    "from time import sleep\n",
    "start = time()\n",
    "\n",
    "question = \"Summary of situation in gaza\"\n",
    "\n",
    "response_complete = ''\n",
    "for data_idx in range(10):\n",
    "\n",
    "    prompt = f\"\"\" \n",
    "        Data is in the form of tuples inside list: {content_list_complete[data_idx]} \\n\\n\\n \n",
    "        Question: {question} \\n\\n\\n\n",
    "        Method of reply: 100 - 200 word sentences, clear reply,\n",
    "        provide url if neccessary.\n",
    "        \"\"\"\n",
    "    \n",
    "    if data_idx % 6 == 0:\n",
    "        sleep(20)\n",
    "\n",
    "    response = get_completion(prompt)\n",
    "    response_complete += response + \"\\n\\n\"\n",
    "    print(f\"Batch {data_idx + 1} out of {iterations} completed \")\n",
    "\n",
    "end = time()\n",
    "\n",
    "print(f\"Executed in {end-start:.2f}s\")\n",
    "    "
   ]
  },
  {
   "cell_type": "markdown",
   "metadata": {},
   "source": [
    "### Parallel Execution for 2 api"
   ]
  },
  {
   "cell_type": "code",
   "execution_count": 18,
   "metadata": {},
   "outputs": [
    {
     "name": "stdout",
     "output_type": "stream",
     "text": [
      "Batch 1 - 2 executed out of 24\n",
      "Batch 3 - 4 executed out of 24\n",
      "Batch 5 - 6 executed out of 24\n",
      "Batch 7 - 8 executed out of 24\n",
      "Batch 9 - 10 executed out of 24\n",
      "Executed in 98.97s\n"
     ]
    }
   ],
   "source": [
    "start = time()\n",
    "\n",
    "complete_result_of_openai = \"\"\n",
    "question_to_pass = \"status of war in gaza\"\n",
    "\n",
    "count = 0\n",
    "\n",
    "NUM_OF_API = 2\n",
    "\n",
    "for i in range(0, 10, NUM_OF_API):\n",
    "\n",
    "    if count % 6 == 0:\n",
    "        sleep(20)\n",
    "    \n",
    "\n",
    "    result = ''\n",
    "\n",
    "    result_queue1 = multiprocessing.Queue()\n",
    "    result_queue2 = multiprocessing.Queue()\n",
    "\n",
    "\n",
    "    process1 = multiprocessing.Process(target=gpt1, args=(question_to_pass, content_list_complete, i, result_queue1))\n",
    "    process2 = multiprocessing.Process(target=gpt2, args=(question_to_pass, content_list_complete, i+1, result_queue2))\n",
    "\n",
    "\n",
    "    # Start processes\n",
    "    process1.start()\n",
    "    process2.start()\n",
    "\n",
    "    # Wait for processes to finish\n",
    "    process1.join()\n",
    "    process2.join()\n",
    "\n",
    "\n",
    "    result1 = result_queue1.get()\n",
    "    result2 = result_queue2.get()\n",
    "\n",
    "    # Rest of your code remains unchanged\n",
    "    result = result1 + \"\\n\\n\" + result2 + \"\\n\\n\"\n",
    "    complete_result_of_openai += result\n",
    "\n",
    "    print(f\"Batch {i+1} - {i+NUM_OF_API} executed out of {len(content_list_complete)}\")\n",
    "    count += 1\n",
    "complete_result_of_openai\n",
    "\n",
    "end = time()\n",
    "\n",
    "print(f\"Executed in {end-start:.2f}s\")\n"
   ]
  },
  {
   "cell_type": "code",
   "execution_count": 22,
   "metadata": {},
   "outputs": [
    {
     "data": {
      "text/plain": [
       "2.204081632653061"
      ]
     },
     "execution_count": 22,
     "metadata": {},
     "output_type": "execute_result"
    }
   ],
   "source": [
    "216/98"
   ]
  },
  {
   "cell_type": "code",
   "execution_count": 17,
   "metadata": {},
   "outputs": [],
   "source": [
    "response2 = get_completion(f\"Provide Detailed Summary of {complete_result_of_openai}\")\n",
    "# response3"
   ]
  },
  {
   "cell_type": "code",
   "execution_count": 23,
   "metadata": {},
   "outputs": [],
   "source": [
    "with open(\"Output_gaza_parallel.txt\" , \"w\") as f:\n",
    "    f.write(complete_result_of_openai)"
   ]
  },
  {
   "cell_type": "code",
   "execution_count": 18,
   "metadata": {},
   "outputs": [],
   "source": [
    "with open(\"Output_gaza_parallel_summary.txt\" , \"w\") as f:\n",
    "    f.write(complete_result_of_openai)"
   ]
  },
  {
   "cell_type": "code",
   "execution_count": 63,
   "metadata": {},
   "outputs": [],
   "source": [
    "with open(\"Output_gaza.txt\" , \"w\") as f:\n",
    "    f.write(response_complete)"
   ]
  },
  {
   "cell_type": "code",
   "execution_count": 66,
   "metadata": {},
   "outputs": [],
   "source": [
    "with open(\"Output_gaza_summary.txt\" , \"w\") as f:\n",
    "    f.write(response2)"
   ]
  },
  {
   "cell_type": "code",
   "execution_count": 39,
   "metadata": {},
   "outputs": [
    {
     "data": {
      "text/plain": [
       "{'search_metadata': {'id': '65e3f179ca968fce70b728f5',\n",
       "  'status': 'Success',\n",
       "  'json_endpoint': 'https://serpapi.com/searches/a1f806d995d2e248/65e3f179ca968fce70b728f5.json',\n",
       "  'created_at': '2024-03-03 03:41:45 UTC',\n",
       "  'processed_at': '2024-03-03 03:41:45 UTC',\n",
       "  'google_url': 'https://www.google.com/search?q=cat&oq=cat&num=1&sourceid=chrome&ie=UTF-8',\n",
       "  'raw_html_file': 'https://serpapi.com/searches/a1f806d995d2e248/65e3f179ca968fce70b728f5.html',\n",
       "  'total_time_taken': 1.17},\n",
       " 'search_parameters': {'engine': 'google',\n",
       "  'q': 'cat',\n",
       "  'google_domain': 'google.com',\n",
       "  'num': '1',\n",
       "  'device': 'desktop'},\n",
       " 'search_information': {'query_displayed': 'cat',\n",
       "  'organic_results_state': 'Results for exact spelling'},\n",
       " 'knowledge_graph': {'title': 'About Cat',\n",
       "  'type': 'Animal',\n",
       "  'kgmid': '/m/01yrx',\n",
       "  'knowledge_graph_search_link': 'https://www.google.com/search?kgmid=/m/01yrx&hl=en-US&hl=Cat',\n",
       "  'serpapi_knowledge_graph_search_link': 'https://serpapi.com/search.json?device=desktop&engine=google&google_domain=google.com&hl=en-US&kgmid=%2Fm%2F01yrx&num=1&q=cat',\n",
       "  'tabs': [{'text': 'Perspectives',\n",
       "    'link': 'https://www.google.com/search?num=1&sca_esv=b60573e6fd3d297f&q=cat&uds=AMwkrPvqGo5zoYGWt6LNDCHlwCLezar5V29lBU2bhgZbER_fUF6enDWV5lHu1zQj6ZjvfWlKox1e1p4UdKUQQ7-Dj9cd-i877UfHFnn4n32RpE5Dz7VsX4U7iegJY7pyBVAqoQTkyNRh&udm=4&sa=X&ved=2ahUKEwjnnKCblteEAxX2EFkFHbsaD7cQs6gLegQIGBAB',\n",
       "    'serpapi_link': 'https://serpapi.com/search.json?device=desktop&engine=google&google_domain=google.com&num=1&q=cat'},\n",
       "   {'text': 'Breeds',\n",
       "    'link': 'https://www.google.com/search?num=1&sca_esv=b60573e6fd3d297f&q=Cat+breeds&uds=AMwkrPu1uc2vS1cm3Oy0-F5NiXmXcccq8FvNnIWEOm5d3VE_ULFU57G_AxTT_J8xznw1j5EI0KrvgREnPTfe9dUqlSsJy-2Xf0h_Gu1TaxVlh0S3g9nCWfc&sa=X&ved=2ahUKEwjnnKCblteEAxX2EFkFHbsaD7cQxKsJegQIFRAB&ictx=0',\n",
       "    'serpapi_link': 'https://serpapi.com/search.json?device=desktop&engine=google&google_domain=google.com&num=1&q=Cat+breeds'}],\n",
       "  'header_images': [{'image': 'https://serpapi.com/searches/65e3f179ca968fce70b728f5/images/bc23b677c7dc8305d8ae65387b64153178b54fd3f734b92862aeff3a592e9a3676c9351ded234704.webp',\n",
       "    'source': 'https://www.nationalgeographic.com/animals/mammals/facts/domestic-cat'},\n",
       "   {'image': 'https://serpapi.com/searches/65e3f179ca968fce70b728f5/images/bc23b677c7dc8305d8ae65387b64153178b54fd3f734b928f510d5fd22d79b6963da43a06061ccdf.webp',\n",
       "    'source': 'https://en.wikipedia.org/wiki/Cat'},\n",
       "   {'image': 'https://serpapi.com/searches/65e3f179ca968fce70b728f5/images/bc23b677c7dc8305d8ae65387b64153178b54fd3f734b9285c2f14439c1ca91b32781ffdb45481c1.webp',\n",
       "    'source': 'https://www.wfla.com/bloom-tampa-bay/10-surprising-benefits-of-having-a-cat-in-your-life/'}],\n",
       "  'description': 'The cat, commonly referred to as the domestic cat or house cat, is the only domesticated species in the family Felidae. Recent advances in archaeology and genetics have shown that the domestication of the cat occurred in the Near East around 7500 BC.',\n",
       "  'source': {'name': 'Wikipedia', 'link': 'https://en.wikipedia.org/wiki/Cat'},\n",
       "  'lifespan': '12 – 18 years (Domesticated)',\n",
       "  'scientific_name': 'Felis catus',\n",
       "  'class': 'Mammalia',\n",
       "  'domain': 'Eukaryota',\n",
       "  'family': 'Felidae',\n",
       "  'genus': 'Felis',\n",
       "  'web_results': [{'thumbnail': 'https://serpapi.com/searches/65e3f179ca968fce70b728f5/images/bc23b677c7dc8305d8ae65387b641531116b8b6f9bcb9afcf7b07734fea7d1e87be157f428e5ba52.jpeg',\n",
       "    'title': \"Cat's Meows Are So Misunderstood - The New York Times\",\n",
       "    'snippet': \"A study suggests that humans often misinterpret a pet's signals; even purring doesn't guarantee a contented cat.\",\n",
       "    'source': 'The New York Times',\n",
       "    'source_image': 'https://serpapi.com/searches/65e3f179ca968fce70b728f5/images/bc23b677c7dc8305d8ae65387b641531116b8b6f9bcb9afc8c215c2234105a6d283049de9975d17d0bdc03dde27816e7.png',\n",
       "    'link': 'https://www.nytimes.com/2024/02/29/science/cats-animal-behavior-meow.html',\n",
       "    'date': '2 days ago'},\n",
       "   {'title': 'Lifespan',\n",
       "    'snippet': '12 – 18 years (Domesticated)',\n",
       "    'link': 'https://www.google.com/search?num=1&sca_esv=b60573e6fd3d297f&q=cat+lifespan&stick=H4sIAAAAAAAAAOPgE2LQ0slOttJPyszPyU-v1M8vSk_MyyzOjU_OSSwuzkzLTE4syczPs8rJTEstLkjMW8TKAxRRgHEBwBwQAkEAAAA&sa=X&ved=2ahUKEwjnnKCblteEAxX2EFkFHbsaD7cQ18AJegQIHhAB'},\n",
       "   {'thumbnail': 'https://serpapi.com/searches/65e3f179ca968fce70b728f5/images/bc23b677c7dc8305d8ae65387b641531116b8b6f9bcb9afc690e6d5b412635d7e6e4c0dde819d383.jpeg',\n",
       "    'title': 'Cat Raised By Dogs Races To The Ocean To Swim | The Dodo',\n",
       "    'source': 'YouTube • The Dodo',\n",
       "    'source_image': 'https://serpapi.com/searches/65e3f179ca968fce70b728f5/images/bc23b677c7dc8305d8ae65387b641531116b8b6f9bcb9afca5d131ac2b466a761b32a227b61b4d3559611f9dc3f24ede.png',\n",
       "    'link': 'https://www.youtube.com/watch?v=nVbm5nImTj0',\n",
       "    'duration': '3:03'}],\n",
       "  'breeds': [{'name': 'Siamese cat',\n",
       "    'link': 'https://www.google.com/search?num=1&sca_esv=b60573e6fd3d297f&q=Siamese+cat&stick=H4sIAAAAAAAAAONgFuLQz9U3MKwsqlACs9LjjYu0-P2L0hPzMotzQ_KdilJTUxaxcgdnJuamFqcqJCeW7GBlBADK-9WjOAAAAA&sa=X&ved=2ahUKEwjnnKCblteEAxX2EFkFHbsaD7cQxA16BAgvEAM',\n",
       "    'serpapi_link': 'https://serpapi.com/search.json?device=desktop&engine=google&google_domain=google.com&num=1&q=Siamese+cat&stick=H4sIAAAAAAAAAONgFuLQz9U3MKwsqlACs9LjjYu0-P2L0hPzMotzQ_KdilJTUxaxcgdnJuamFqcqJCeW7GBlBADK-9WjOAAAAA',\n",
       "    'image': 'https://serpapi.com/searches/65e3f179ca968fce70b728f5/images/bc23b677c7dc8305d8ae65387b641531c4d92cd751c293ede4338b628e5c45da.jpeg'},\n",
       "   {'name': 'British Shorthair',\n",
       "    'link': 'https://www.google.com/search?num=1&sca_esv=b60573e6fd3d297f&q=British+Shorthair&stick=H4sIAAAAAAAAAONgFuLQz9U3MKwsqlACs5KTjM21-P2L0hPzMotzQ_KdilJTUxaxCjoVZZZkFmcoBGfkF5VkJGYW7WBlBAC1AxqRPgAAAA&sa=X&ved=2ahUKEwjnnKCblteEAxX2EFkFHbsaD7cQxA16BAgvEAU',\n",
       "    'serpapi_link': 'https://serpapi.com/search.json?device=desktop&engine=google&google_domain=google.com&num=1&q=British+Shorthair&stick=H4sIAAAAAAAAAONgFuLQz9U3MKwsqlACs5KTjM21-P2L0hPzMotzQ_KdilJTUxaxCjoVZZZkFmcoBGfkF5VkJGYW7WBlBAC1AxqRPgAAAA',\n",
       "    'image': 'https://serpapi.com/searches/65e3f179ca968fce70b728f5/images/bc23b677c7dc8305d8ae65387b641531a700c6300db0194aca9a39be22df9521.jpeg'},\n",
       "   {'name': 'Maine Coon',\n",
       "    'link': 'https://www.google.com/search?num=1&sca_esv=b60573e6fd3d297f&q=Maine+Coon&stick=H4sIAAAAAAAAAONgFuLQz9U3MKwsqlACs7LMDLK0-P2L0hPzMotzQ_KdilJTUxaxcvkmZualKjjn5-ftYGUEAGEJqpQ3AAAA&sa=X&ved=2ahUKEwjnnKCblteEAxX2EFkFHbsaD7cQxA16BAgvEAc',\n",
       "    'serpapi_link': 'https://serpapi.com/search.json?device=desktop&engine=google&google_domain=google.com&num=1&q=Maine+Coon&stick=H4sIAAAAAAAAAONgFuLQz9U3MKwsqlACs7LMDLK0-P2L0hPzMotzQ_KdilJTUxaxcvkmZualKjjn5-ftYGUEAGEJqpQ3AAAA',\n",
       "    'image': 'https://serpapi.com/searches/65e3f179ca968fce70b728f5/images/bc23b677c7dc8305d8ae65387b641531a26b0212e27cf0215bb424cdbff9effd.jpeg'},\n",
       "   {'name': 'Persian cat',\n",
       "    'link': 'https://www.google.com/search?num=1&sca_esv=b60573e6fd3d297f&q=Persian+cat&stick=H4sIAAAAAAAAAONgFuLQz9U3MKwsqlACs7JMzMq0-P2L0hPzMotzQ_KdilJTUxaxcgekFhVnJuYpJCeW7GBlBABKW7RSOAAAAA&sa=X&ved=2ahUKEwjnnKCblteEAxX2EFkFHbsaD7cQxA16BAgvEAk',\n",
       "    'serpapi_link': 'https://serpapi.com/search.json?device=desktop&engine=google&google_domain=google.com&num=1&q=Persian+cat&stick=H4sIAAAAAAAAAONgFuLQz9U3MKwsqlACs7JMzMq0-P2L0hPzMotzQ_KdilJTUxaxcgekFhVnJuYpJCeW7GBlBABKW7RSOAAAAA',\n",
       "    'image': 'https://serpapi.com/searches/65e3f179ca968fce70b728f5/images/bc23b677c7dc8305d8ae65387b641531ad9ac94072e5f2ac8d91de789130dd78.jpeg'}]},\n",
       " 'organic_results': [{'position': 1,\n",
       "   'title': 'Cat',\n",
       "   'link': 'https://en.wikipedia.org/wiki/Cat',\n",
       "   'redirect_link': 'https://www.google.com/url?sa=t&source=web&rct=j&opi=89978449&url=https://en.wikipedia.org/wiki/Cat&ved=2ahUKEwjnnKCblteEAxX2EFkFHbsaD7cQFnoECCEQAQ',\n",
       "   'displayed_link': 'https://en.wikipedia.org › wiki › Cat',\n",
       "   'thumbnail': 'https://serpapi.com/searches/65e3f179ca968fce70b728f5/images/6a628cddabd945593000d23f531295a1150dc7d07f3d4267563ab7dc2f131346.jpeg',\n",
       "   'favicon': 'https://serpapi.com/searches/65e3f179ca968fce70b728f5/images/6a628cddabd945593000d23f531295a11c27ecb5e60564c47ffc4ead682ad16b.png',\n",
       "   'snippet': 'The cat (Felis catus), commonly referred to as the domestic cat or house cat, is the only domesticated species in the family Felidae.',\n",
       "   'snippet_highlighted_words': ['cat', 'cat', 'cat'],\n",
       "   'sitelinks': {'inline': [{'title': 'List of cat breeds',\n",
       "      'link': 'https://en.wikipedia.org/wiki/List_of_cat_breeds'},\n",
       "     {'title': 'Cat behavior',\n",
       "      'link': 'https://en.wikipedia.org/wiki/Cat_behavior'},\n",
       "     {'title': 'Cat anatomy',\n",
       "      'link': 'https://en.wikipedia.org/wiki/Cat_anatomy'},\n",
       "     {'title': 'Feral cat',\n",
       "      'link': 'https://en.wikipedia.org/wiki/Feral_cat'}]},\n",
       "   'source': 'Wikipedia'}],\n",
       " 'related_searches': [{'block_position': 1,\n",
       "   'query': 'cat or dog',\n",
       "   'link': 'https://www.google.com/search?num=1&sca_esv=b60573e6fd3d297f&q=Cat+or+dog&sa=X&ved=2ahUKEwjnnKCblteEAxX2EFkFHbsaD7cQ1QJ6BAgSEAE',\n",
       "   'serpapi_link': 'https://serpapi.com/search.json?device=desktop&engine=google&google_domain=google.com&num=1&q=Cat+or+dog'},\n",
       "  {'block_position': 1,\n",
       "   'query': 'cat drawing',\n",
       "   'link': 'https://www.google.com/search?num=1&sca_esv=b60573e6fd3d297f&q=Cat+drawing&sa=X&ved=2ahUKEwjnnKCblteEAxX2EFkFHbsaD7cQ1QJ6BAgTEAE',\n",
       "   'serpapi_link': 'https://serpapi.com/search.json?device=desktop&engine=google&google_domain=google.com&num=1&q=Cat+drawing'},\n",
       "  {'block_position': 1,\n",
       "   'query': 'cat game',\n",
       "   'link': 'https://www.google.com/search?num=1&sca_esv=b60573e6fd3d297f&q=Cat+game&sa=X&ved=2ahUKEwjnnKCblteEAxX2EFkFHbsaD7cQ1QJ6BAgREAE',\n",
       "   'serpapi_link': 'https://serpapi.com/search.json?device=desktop&engine=google&google_domain=google.com&num=1&q=Cat+game'},\n",
       "  {'block_position': 1,\n",
       "   'query': 'cat sound',\n",
       "   'link': 'https://www.google.com/search?num=1&sca_esv=b60573e6fd3d297f&q=Cat+sound&sa=X&ved=2ahUKEwjnnKCblteEAxX2EFkFHbsaD7cQ1QJ6BAgQEAE',\n",
       "   'serpapi_link': 'https://serpapi.com/search.json?device=desktop&engine=google&google_domain=google.com&num=1&q=Cat+sound'},\n",
       "  {'block_position': 1,\n",
       "   'query': 'cute cat',\n",
       "   'link': 'https://www.google.com/search?num=1&sca_esv=b60573e6fd3d297f&q=Cute+cat&sa=X&ved=2ahUKEwjnnKCblteEAxX2EFkFHbsaD7cQ1QJ6BAgPEAE',\n",
       "   'serpapi_link': 'https://serpapi.com/search.json?device=desktop&engine=google&google_domain=google.com&num=1&q=Cute+cat'},\n",
       "  {'block_position': 1,\n",
       "   'query': 'cat meme',\n",
       "   'link': 'https://www.google.com/search?num=1&sca_esv=b60573e6fd3d297f&q=Cat+meme&sa=X&ved=2ahUKEwjnnKCblteEAxX2EFkFHbsaD7cQ1QJ6BAgOEAE',\n",
       "   'serpapi_link': 'https://serpapi.com/search.json?device=desktop&engine=google&google_domain=google.com&num=1&q=Cat+meme'},\n",
       "  {'block_position': 1,\n",
       "   'query': 'cats for sale',\n",
       "   'link': 'https://www.google.com/search?num=1&sca_esv=b60573e6fd3d297f&q=Cats+for+sale&sa=X&ved=2ahUKEwjnnKCblteEAxX2EFkFHbsaD7cQ1QJ6BAgNEAE',\n",
       "   'serpapi_link': 'https://serpapi.com/search.json?device=desktop&engine=google&google_domain=google.com&num=1&q=Cats+for+sale'},\n",
       "  {'block_position': 1,\n",
       "   'query': 'cat full form',\n",
       "   'link': 'https://www.google.com/search?num=1&sca_esv=b60573e6fd3d297f&q=CAT+Full+Form&sa=X&ved=2ahUKEwjnnKCblteEAxX2EFkFHbsaD7cQ1QJ6BAgMEAE',\n",
       "   'serpapi_link': 'https://serpapi.com/search.json?device=desktop&engine=google&google_domain=google.com&num=1&q=CAT+Full+Form'}],\n",
       " 'pagination': {'current': 1,\n",
       "  'next': 'https://www.google.com/search?q=cat&oq=cat&num=1&start=1&sourceid=chrome&ie=UTF-8',\n",
       "  'other_pages': {'2': 'https://www.google.com/search?q=cat&oq=cat&num=1&start=1&sourceid=chrome&ie=UTF-8',\n",
       "   '3': 'https://www.google.com/search?q=cat&oq=cat&num=1&start=2&sourceid=chrome&ie=UTF-8',\n",
       "   '4': 'https://www.google.com/search?q=cat&oq=cat&num=1&start=3&sourceid=chrome&ie=UTF-8',\n",
       "   '5': 'https://www.google.com/search?q=cat&oq=cat&num=1&start=4&sourceid=chrome&ie=UTF-8'}},\n",
       " 'serpapi_pagination': {'current': 1,\n",
       "  'next_link': 'https://serpapi.com/search.json?device=desktop&engine=google&google_domain=google.com&num=1&q=cat&start=1',\n",
       "  'next': 'https://serpapi.com/search.json?device=desktop&engine=google&google_domain=google.com&num=1&q=cat&start=1',\n",
       "  'other_pages': {'2': 'https://serpapi.com/search.json?device=desktop&engine=google&google_domain=google.com&num=1&q=cat&start=1',\n",
       "   '3': 'https://serpapi.com/search.json?device=desktop&engine=google&google_domain=google.com&num=1&q=cat&start=2',\n",
       "   '4': 'https://serpapi.com/search.json?device=desktop&engine=google&google_domain=google.com&num=1&q=cat&start=3',\n",
       "   '5': 'https://serpapi.com/search.json?device=desktop&engine=google&google_domain=google.com&num=1&q=cat&start=4'}}}"
      ]
     },
     "execution_count": 39,
     "metadata": {},
     "output_type": "execute_result"
    }
   ],
   "source": [
    "params = {\n",
    "    \"q\": \"cat\",\n",
    "    \"api_key\": 'd7555dcb6698cf4004b757eeade1ac86a425b101cb972691dc757282f353d9f6',\n",
    "    \"num\": 1\n",
    "}\n",
    "search = GoogleSearch(params)\n",
    "search.get_dict()"
   ]
  },
  {
   "cell_type": "code",
   "execution_count": 2,
   "metadata": {},
   "outputs": [
    {
     "ename": "KeyError",
     "evalue": "'news_results'",
     "output_type": "error",
     "traceback": [
      "\u001b[0;31m---------------------------------------------------------------------------\u001b[0m",
      "\u001b[0;31mKeyError\u001b[0m                                  Traceback (most recent call last)",
      "Cell \u001b[0;32mIn[2], line 16\u001b[0m\n\u001b[1;32m     14\u001b[0m search \u001b[38;5;241m=\u001b[39m GoogleSearch(params)\n\u001b[1;32m     15\u001b[0m results \u001b[38;5;241m=\u001b[39m search\u001b[38;5;241m.\u001b[39mget_dict()\n\u001b[0;32m---> 16\u001b[0m news_results \u001b[38;5;241m=\u001b[39m \u001b[43mresults\u001b[49m\u001b[43m[\u001b[49m\u001b[38;5;124;43m\"\u001b[39;49m\u001b[38;5;124;43mnews_results\u001b[39;49m\u001b[38;5;124;43m\"\u001b[39;49m\u001b[43m]\u001b[49m\n\u001b[1;32m     17\u001b[0m news_results\n",
      "\u001b[0;31mKeyError\u001b[0m: 'news_results'"
     ]
    }
   ],
   "source": [
    "from serpapi import GoogleSearch\n",
    "\n",
    "from_date = '2019-02-22'\n",
    "to_date = '2024-03-03'\n",
    "\n",
    "params = {\n",
    "  \"q\": 'Ambani Anant Ambani marriage site:http://indiatoday.in OR site:http://timesofindia.indiatimes.com',\n",
    "  \"tbm\": \"nws\",\n",
    "  \"api_key\": \"d7555dcb6698cf4004b757eeade1ac86a425b101cb972691dc757282f353d9f6\",\n",
    "  \"tbs\": f\"cdr:1,cd_min:{from_date.replace('-', '/')},cd_max:{to_date.replace('-', '/')}\",\n",
    "  'num' : 100\n",
    "}\n",
    "\n",
    "search = GoogleSearch(params)\n",
    "results = search.get_dict()\n",
    "news_results = results[\"news_results\"]\n",
    "news_results"
   ]
  },
  {
   "cell_type": "code",
   "execution_count": 3,
   "metadata": {},
   "outputs": [
    {
     "data": {
      "text/plain": [
       "{'search_metadata': {'id': '65e3fcbf477c0e45c476fabf',\n",
       "  'status': 'Success',\n",
       "  'json_endpoint': 'https://serpapi.com/searches/1aaeaac6d67b6acc/65e3fcbf477c0e45c476fabf.json',\n",
       "  'created_at': '2024-03-03 04:29:51 UTC',\n",
       "  'processed_at': '2024-03-03 04:29:51 UTC',\n",
       "  'google_url': 'https://www.google.com/search?q=Ambani+Anant+Ambani+marriage+site%3Ahttp%3A%2F%2Findiatoday.in+OR+site%3Ahttp%3A%2F%2Ftimesofindia.indiatimes.com&oq=Ambani+Anant+Ambani+marriage+site%3Ahttp%3A%2F%2Findiatoday.in+OR+site%3Ahttp%3A%2F%2Ftimesofindia.indiatimes.com&num=100&tbm=nws&tbs=cdr:1,cd_min:2019/02/22,cd_max:2024/03/03&sourceid=chrome&ie=UTF-8',\n",
       "  'raw_html_file': 'https://serpapi.com/searches/1aaeaac6d67b6acc/65e3fcbf477c0e45c476fabf.html',\n",
       "  'total_time_taken': 0.83},\n",
       " 'search_parameters': {'engine': 'google',\n",
       "  'q': 'Ambani Anant Ambani marriage site:http://indiatoday.in OR site:http://timesofindia.indiatimes.com',\n",
       "  'google_domain': 'google.com',\n",
       "  'num': '100',\n",
       "  'device': 'desktop',\n",
       "  'tbm': 'nws',\n",
       "  'tbs': 'cdr:1,cd_min:2019/02/22,cd_max:2024/03/03'},\n",
       " 'search_information': {'query_displayed': 'Ambani Anant Ambani marriage site:http://indiatoday.in OR site:http://timesofindia.indiatimes.com',\n",
       "  'news_results_state': 'Fully empty'},\n",
       " 'error': \"Google hasn't returned any results for this query.\"}"
      ]
     },
     "execution_count": 3,
     "metadata": {},
     "output_type": "execute_result"
    }
   ],
   "source": [
    "results"
   ]
  }
 ],
 "metadata": {
  "kernelspec": {
   "display_name": "Python 3",
   "language": "python",
   "name": "python3"
  },
  "language_info": {
   "codemirror_mode": {
    "name": "ipython",
    "version": 3
   },
   "file_extension": ".py",
   "mimetype": "text/x-python",
   "name": "python",
   "nbconvert_exporter": "python",
   "pygments_lexer": "ipython3",
   "version": "3.11.5"
  }
 },
 "nbformat": 4,
 "nbformat_minor": 2
}
